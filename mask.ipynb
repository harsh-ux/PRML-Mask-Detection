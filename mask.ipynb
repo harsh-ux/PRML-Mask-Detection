{
  "nbformat": 4,
  "nbformat_minor": 0,
  "metadata": {
    "colab": {
      "name": "mask.ipynb",
      "provenance": [],
      "collapsed_sections": [],
      "include_colab_link": true
    },
    "kernelspec": {
      "name": "python3",
      "display_name": "Python 3"
    },
    "language_info": {
      "name": "python"
    }
  },
  "cells": [
    {
      "cell_type": "markdown",
      "metadata": {
        "id": "view-in-github",
        "colab_type": "text"
      },
      "source": [
        "<a href=\"https://colab.research.google.com/github/harsh-ux/PRML-Mini_Project/blob/main/mask.ipynb\" target=\"_parent\"><img src=\"https://colab.research.google.com/assets/colab-badge.svg\" alt=\"Open In Colab\"/></a>"
      ]
    },
    {
      "cell_type": "code",
      "metadata": {
        "id": "cudeSrCNn-JB"
      },
      "source": [
        "import pandas  as pd #Data manipulation\n",
        "import numpy as np #Data manipulation\n",
        "import matplotlib.pyplot as plt # Visualization\n",
        "import seaborn as sns #Visualization\n",
        "plt.rcParams['figure.figsize'] = [8,5]\n",
        "plt.rcParams['font.size'] =14\n",
        "plt.rcParams['font.weight']= 'bold'\n",
        "plt.style.use('seaborn-whitegrid')\n",
        "import warnings\n",
        "warnings.filterwarnings('ignore')"
      ],
      "execution_count": null,
      "outputs": []
    },
    {
      "cell_type": "code",
      "metadata": {
        "colab": {
          "base_uri": "https://localhost:8080/"
        },
        "id": "Js8JmCCoyzu-",
        "outputId": "88af2136-2146-4ea8-a390-ccfea5403c59"
      },
      "source": [
        "from google.colab import drive\n",
        "drive.mount('/content/drive')"
      ],
      "execution_count": null,
      "outputs": [
        {
          "output_type": "stream",
          "text": [
            "Drive already mounted at /content/drive; to attempt to forcibly remount, call drive.mount(\"/content/drive\", force_remount=True).\n"
          ],
          "name": "stdout"
        }
      ]
    },
    {
      "cell_type": "code",
      "metadata": {
        "id": "E-czuKMXy38K"
      },
      "source": [
        "path = '/content/drive/My Drive/Minor Project/'"
      ],
      "execution_count": null,
      "outputs": []
    },
    {
      "cell_type": "code",
      "metadata": {
        "colab": {
          "base_uri": "https://localhost:8080/"
        },
        "id": "FKVJ6qsTy4ne",
        "outputId": "f11e232b-9bf3-4cae-f2f2-63d8ecae1af8"
      },
      "source": [
        "import os\n",
        "print(os.path)\n",
        "\n",
        "mask_dir = os.path.join(path, 'maskedfinal/')\n",
        "nomask_dir = os.path.join(path, 'nonmaskedfinal/')"
      ],
      "execution_count": null,
      "outputs": [
        {
          "output_type": "stream",
          "text": [
            "<module 'posixpath' from '/usr/lib/python3.7/posixpath.py'>\n"
          ],
          "name": "stdout"
        }
      ]
    },
    {
      "cell_type": "code",
      "metadata": {
        "colab": {
          "base_uri": "https://localhost:8080/"
        },
        "id": "kjXzDlUp0n-x",
        "outputId": "5b3287a6-fe52-4ad0-9a6e-c54d950996dd"
      },
      "source": [
        "mask_img = os.listdir(mask_dir)\n",
        "print(mask_img[:10])\n",
        "nomask_img = os.listdir(nomask_dir)\n",
        "print(nomask_img[:10])"
      ],
      "execution_count": null,
      "outputs": [
        {
          "output_type": "stream",
          "text": [
            "['1_0_45.jpg', '0_0_15 (28).jpg', '0_0_1 (3).jpg', '0_0_8 (27).jpg', '0_0_8 (2).jpg', '0_0_22 (3).jpg', '0_0_4 (8).jpg', '0_0_7 (14).jpg', '0_0_0073OyrFly1gbeb27csuhj30u00u00vh.jpg', '0_1_0 (4).jpg']\n"
          ],
          "name": "stdout"
        }
      ]
    }
  ]
}